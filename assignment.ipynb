{
 "cells": [
  {
   "cell_type": "markdown",
   "metadata": {},
   "source": []
  },
  {
   "cell_type": "code",
   "execution_count": 18,
   "metadata": {},
   "outputs": [
    {
     "name": "stdout",
     "output_type": "stream",
     "text": [
      "[0. 0. 0. 0. 0. 0. 0. 0. 0. 0.]\n",
      "fifth value is 1\n",
      "[0. 0. 0. 0. 1. 0. 0. 0. 0. 0.]\n"
     ]
    }
   ],
   "source": [
    "#1. Create a null vector of size 10 but the fifth value which is 1.\n",
    "import numpy as np\n",
    "\n",
    "v = np.zeros(10)\n",
    "\n",
    "print(v)\n",
    "\n",
    "print(\"fifth value is 1\")\n",
    "\n",
    "v[4] = 1\n",
    "\n",
    "print(v)"
   ]
  },
  {
   "cell_type": "code",
   "execution_count": 19,
   "metadata": {},
   "outputs": [
    {
     "data": {
      "text/plain": [
       "array([10, 11, 12, 13, 14, 15, 16, 17, 18, 19, 20, 21, 22, 23, 24, 25, 26,\n",
       "       27, 28, 29, 30, 31, 32, 33, 34, 35, 36, 37, 38, 39, 40, 41, 42, 43,\n",
       "       44, 45, 46, 47, 48])"
      ]
     },
     "execution_count": 19,
     "metadata": {},
     "output_type": "execute_result"
    }
   ],
   "source": [
    "#2. Create a vector with values ranging from 10 to 49.\n",
    "import numpy as np\n",
    "v = np.arange(10,49)\n",
    "print(v)"
   ]
  },
  {
   "cell_type": "code",
   "execution_count": 21,
   "metadata": {},
   "outputs": [
    {
     "name": "stdout",
     "output_type": "stream",
     "text": [
      "[[0 1 2]\n",
      " [3 4 5]\n",
      " [6 7 8]]\n"
     ]
    }
   ],
   "source": [
    "#3. Create a 3x3 matrix with values ranging from 0 to 8.\n",
    "import numpy as np\n",
    "x =  np.arange(0,9).reshape(3,3)\n",
    "print(x)\n"
   ]
  },
  {
   "cell_type": "code",
   "execution_count": 28,
   "metadata": {},
   "outputs": [
    {
     "name": "stdout",
     "output_type": "stream",
     "text": [
      "(array([0, 1, 4], dtype=int64),)\n"
     ]
    }
   ],
   "source": [
    "#4. Find indices of non-zero elements from [1,2,0,0,4,0].\n",
    "import numpy as np\n",
    "x = [1,2,0,0,4,0]\n",
    "y = np.nonzero(x)\n",
    "print(y)\n"
   ]
  },
  {
   "cell_type": "code",
   "execution_count": 32,
   "metadata": {},
   "outputs": [
    {
     "name": "stdout",
     "output_type": "stream",
     "text": [
      "Original Array:\n",
      "[[0.93729631 0.88675523 0.44473296 0.79348982 0.16557418 0.09559923\n",
      "  0.01083057 0.39530526 0.95174271 0.06861215]\n",
      " [0.14840362 0.83050374 0.79755845 0.74925375 0.86650577 0.46095804\n",
      "  0.64754133 0.08578842 0.03663802 0.88295022]\n",
      " [0.29751384 0.37978917 0.88012255 0.07073901 0.01520878 0.40349932\n",
      "  0.37517086 0.49849009 0.02538424 0.49375539]\n",
      " [0.37301626 0.09155996 0.03874171 0.29417592 0.07884513 0.06764412\n",
      "  0.10287208 0.14929246 0.99162905 0.68352434]\n",
      " [0.22202885 0.74485634 0.03916395 0.10523836 0.2591338  0.88255828\n",
      "  0.4067901  0.96145554 0.34844637 0.66293157]\n",
      " [0.705025   0.3641453  0.65589254 0.71542479 0.59229576 0.49617961\n",
      "  0.20661332 0.71530974 0.38745015 0.38500355]\n",
      " [0.17668461 0.42365008 0.21237628 0.48300981 0.39132534 0.9935704\n",
      "  0.26216375 0.54830827 0.54320184 0.73933976]\n",
      " [0.72965096 0.93069957 0.39590892 0.09777409 0.12278346 0.14020691\n",
      "  0.51890954 0.48222614 0.76242662 0.63083884]\n",
      " [0.14268503 0.32521718 0.81317409 0.40973089 0.76837716 0.65072206\n",
      "  0.2091701  0.26708831 0.51607778 0.81635993]\n",
      " [0.98135974 0.07856681 0.78313262 0.18162525 0.1157845  0.39889151\n",
      "  0.97980926 0.7742317  0.51272904 0.91015525]]\n",
      "Minimum and Maximum Values:\n",
      "0.01083056680348371 0.9935704043068084\n"
     ]
    }
   ],
   "source": [
    "#5. Create a 10x10 array with random values and find the minimum and maximum values.\n",
    "import numpy as np\n",
    "x = np.random.random((10,10))\n",
    "print(\"Original Array:\")\n",
    "print(x) \n",
    "xmin, xmax = x.min(), x.max()\n",
    "print(\"Minimum and Maximum Values:\")\n",
    "print(xmin, xmax)\n",
    "\n"
   ]
  },
  {
   "cell_type": "code",
   "execution_count": 38,
   "metadata": {},
   "outputs": [
    {
     "name": "stdout",
     "output_type": "stream",
     "text": [
      "[0.08139035 0.71027486 0.18552188 0.03139806 0.77434538 0.89488557\n",
      " 0.34348512 0.41503427 0.27687888 0.52342375 0.2423119  0.78538532\n",
      " 0.90374477 0.85327112 0.2817541  0.66424656 0.71705856 0.53359167\n",
      " 0.61532601 0.37562304 0.70490448 0.74386157 0.1094951  0.28877009\n",
      " 0.92947307 0.81220294 0.63137395 0.91716757 0.83609346 0.97097424]\n",
      "mean value:\n",
      "0.5717755880053969\n"
     ]
    }
   ],
   "source": [
    "#6. Create a random vector of size 30 and find the mean value.\n",
    "a = np.random.random(30)\n",
    "print(a)\n",
    "print(\"mean value:\")\n",
    "b = a.mean()\n",
    "print(b)"
   ]
  }
 ],
 "metadata": {
  "kernelspec": {
   "display_name": "base",
   "language": "python",
   "name": "python3"
  },
  "language_info": {
   "codemirror_mode": {
    "name": "ipython",
    "version": 3
   },
   "file_extension": ".py",
   "mimetype": "text/x-python",
   "name": "python",
   "nbconvert_exporter": "python",
   "pygments_lexer": "ipython3",
   "version": "3.11.3"
  }
 },
 "nbformat": 4,
 "nbformat_minor": 2
}
